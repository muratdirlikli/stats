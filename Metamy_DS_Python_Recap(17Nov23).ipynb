{
 "cells": [
  {
   "attachments": {
    "Metamy%20Logo3.jpg": {
     "image/jpeg": "[encoded data removed]"
    }
   },
   "cell_type": "markdown",
   "id": "1a260b68",
   "metadata": {},
   "source": [
    "![Metamy%20Logo3.jpg](attachment:Metamy%20Logo3.jpg)"
   ]
  },
  {
   "cell_type": "markdown",
   "id": "a47f0eaa",
   "metadata": {},
   "source": [
    "# PYTHON RECAP (17Nov23)"
   ]
  },
  {
   "cell_type": "markdown",
   "id": "5e5c84ba",
   "metadata": {},
   "source": [
    "## Challenge(For Loop)"
   ]
  },
  {
   "cell_type": "markdown",
   "id": "3380b61e",
   "metadata": {},
   "source": [
    "**Instructions**\n",
    "\n",
    "Please complete the code below by using <code>for</code> loop to return the output.**<br><br>\n",
    "\n",
    "\n",
    "**Expected Output:**<br>\n",
    "\n",
    "0 km<br>\n",
    "4 km<br>\n",
    "9 km<br>"
   ]
  },
  {
   "cell_type": "code",
   "execution_count": null,
   "id": "b02e3b11",
   "metadata": {},
   "outputs": [],
   "source": [
    "x = [0, 4, 9]\n",
    "\n",
    "# Your code here👇\n",
    "\n"
   ]
  },
  {
   "cell_type": "code",
   "execution_count": null,
   "id": "7aba1dd7",
   "metadata": {},
   "outputs": [],
   "source": []
  },
  {
   "cell_type": "markdown",
   "id": "d83f4c6b",
   "metadata": {},
   "source": [
    "## Challenge(Sum of Positives)"
   ]
  },
  {
   "cell_type": "markdown",
   "id": "b0a9e82c",
   "metadata": {},
   "source": [
    "**Instructions:**\n",
    "\n",
    "Write a Python program that prompts the user to enter a <code>positive integer</code> and then prints the <code>sum of all even numbers</code> from 2 to the input integer (inclusive).<br><br><br>\n",
    "**Expected output:**<br><br>\n",
    "Enter a positive integer: 10<br>\n",
    "The sum of even numbers from 2 to 10 is 30"
   ]
  },
  {
   "cell_type": "markdown",
   "id": "cfaddf1e",
   "metadata": {},
   "source": [
    "**Solution-1**"
   ]
  },
  {
   "cell_type": "code",
   "execution_count": null,
   "id": "c03161cc",
   "metadata": {},
   "outputs": [],
   "source": [
    "num = int(input(\"Enter a positive integer: \"))\n",
    "summ = 0\n",
    "# Your code here👇\n"
   ]
  },
  {
   "cell_type": "markdown",
   "id": "874167a2",
   "metadata": {},
   "source": [
    "## Challenge(Second Largest)"
   ]
  },
  {
   "cell_type": "markdown",
   "id": "2ce0817d",
   "metadata": {},
   "source": [
    "**Instructions:**\n",
    "\n",
    "Write a Python program that prompts the user to enter a list of integers, and then uses a <code>while</code> loop to find and print the <code>second largest number</code> in the list.<br><br>\n",
    "**Expected output:**<br>\n",
    "Enter a list of integers separated by spaces: 5 2 8 10 3<br>\n",
    "The second largest number is: 8"
   ]
  },
  {
   "cell_type": "code",
   "execution_count": 11,
   "id": "b22147b5",
   "metadata": {
    "ExecuteTime": {
     "end_time": "2023-11-23T17:54:35.121613Z",
     "start_time": "2023-11-23T17:54:24.150592Z"
    }
   },
   "outputs": [
    {
     "name": "stdout",
     "output_type": "stream",
     "text": [
      "Aralarında boşluk olacak şekilde tamsayı listesi giriniz: 5 2 8 10 3\n",
      "8\n"
     ]
    }
   ],
   "source": [
    "lst = input(\"Aralarında boşluk olacak şekilde tamsayı listesi giriniz: \")\n",
    "lst = list(map(int,lst.split()))\n",
    "second_largest = 0\n",
    "largest = min(lst)\n",
    "i=0\n",
    "while i <len(lst):\n",
    "    if lst[i]>largest:\n",
    "        second_largest = largest\n",
    "        largest = lst[i]\n",
    "    else:\n",
    "        second_largest = max(second_largest,lst[i])\n",
    "    i+=1\n",
    "print(second_largest)"
   ]
  },
  {
   "cell_type": "code",
   "execution_count": null,
   "id": "5debdc24",
   "metadata": {},
   "outputs": [],
   "source": []
  },
  {
   "cell_type": "code",
   "execution_count": null,
   "id": "15807eac",
   "metadata": {},
   "outputs": [],
   "source": []
  },
  {
   "cell_type": "code",
   "execution_count": 7,
   "id": "b5f0be0f",
   "metadata": {
    "ExecuteTime": {
     "end_time": "2023-11-23T17:45:00.982326Z",
     "start_time": "2023-11-23T17:45:00.976453Z"
    }
   },
   "outputs": [],
   "source": [
    "a=\"5 3 2 8 10 9\""
   ]
  },
  {
   "cell_type": "code",
   "execution_count": 8,
   "id": "925793c1",
   "metadata": {
    "ExecuteTime": {
     "end_time": "2023-11-23T17:45:03.920448Z",
     "start_time": "2023-11-23T17:45:03.899890Z"
    }
   },
   "outputs": [
    {
     "data": {
      "text/plain": [
       "['5', '3', '2', '8', '10', '9']"
      ]
     },
     "execution_count": 8,
     "metadata": {},
     "output_type": "execute_result"
    }
   ],
   "source": [
    "a.split()"
   ]
  },
  {
   "cell_type": "code",
   "execution_count": 10,
   "id": "995896b7",
   "metadata": {
    "ExecuteTime": {
     "end_time": "2023-11-23T17:45:56.017658Z",
     "start_time": "2023-11-23T17:45:56.006846Z"
    }
   },
   "outputs": [
    {
     "data": {
      "text/plain": [
       "[5, 3, 2, 8, 10, 9]"
      ]
     },
     "execution_count": 10,
     "metadata": {},
     "output_type": "execute_result"
    }
   ],
   "source": [
    "list(map(int,a.split()))"
   ]
  },
  {
   "cell_type": "code",
   "execution_count": null,
   "id": "9a55d024",
   "metadata": {},
   "outputs": [],
   "source": []
  },
  {
   "cell_type": "code",
   "execution_count": null,
   "id": "9d62138f",
   "metadata": {},
   "outputs": [],
   "source": []
  },
  {
   "cell_type": "code",
   "execution_count": null,
   "id": "c0565def",
   "metadata": {},
   "outputs": [],
   "source": []
  },
  {
   "cell_type": "code",
   "execution_count": null,
   "id": "903bc9c3",
   "metadata": {},
   "outputs": [],
   "source": []
  },
  {
   "cell_type": "code",
   "execution_count": null,
   "id": "b511486a",
   "metadata": {},
   "outputs": [],
   "source": []
  },
  {
   "cell_type": "code",
   "execution_count": null,
   "id": "12f9d343",
   "metadata": {},
   "outputs": [],
   "source": []
  },
  {
   "cell_type": "markdown",
   "id": "995d5f09",
   "metadata": {},
   "source": [
    "## Challenge (Mixed List)"
   ]
  },
  {
   "cell_type": "markdown",
   "id": "8d9ae694",
   "metadata": {},
   "source": [
    "**Instructions**\n",
    "\n",
    "Please solve this challenge by using <code>for</code> loop and <code>if/elif </code>statements with <code>mixed_list</code> and <code>type_dict</code> and get output below."
   ]
  },
  {
   "cell_type": "code",
   "execution_count": null,
   "id": "e2a891bf",
   "metadata": {},
   "outputs": [],
   "source": [
    "mixed_list = [\"m\", \"t\", True, (False, 1), {\"5\" : 2}, [1,2], {\"2\" : \"two\"}, {2, \"3\"}, \"w\", 23, 0]\n",
    "\n",
    "type_dict = {'int': 0, 'str': 0, 'bool': 0, 'list': 0, 'tuple': 0, 'dict': 0, 'set': 0}\n",
    "\n",
    "# Write your code here 👇\n",
    "\n",
    "\n"
   ]
  },
  {
   "cell_type": "markdown",
   "id": "34ff864d",
   "metadata": {},
   "source": [
    "```python\n",
    "{'int': 4, 'str': 6, 'bool': 2, 'list': 2, 'tuple': 2, 'dict': 4, 'set': 2}\n",
    "```"
   ]
  },
  {
   "cell_type": "code",
   "execution_count": null,
   "id": "a4853f92",
   "metadata": {},
   "outputs": [],
   "source": []
  },
  {
   "cell_type": "markdown",
   "id": "ee813606",
   "metadata": {},
   "source": [
    "## Challenge(The Roles in Data Science)"
   ]
  },
  {
   "cell_type": "code",
   "execution_count": null,
   "id": "4601b3c6",
   "metadata": {},
   "outputs": [],
   "source": [
    "xList = \"Data ML Business AI\".split()\n",
    "yList = \"Scientist Engineer Analyst Engineer\".split()"
   ]
  },
  {
   "cell_type": "code",
   "execution_count": null,
   "id": "e8288f51",
   "metadata": {
    "scrolled": true
   },
   "outputs": [],
   "source": [
    "# Please write your code here👇 by using nested for loop with lists above according to the output below:\n",
    "\n",
    "\n",
    "\n",
    "\n"
   ]
  },
  {
   "cell_type": "markdown",
   "id": "0531603a",
   "metadata": {},
   "source": [
    "```python \n",
    "['DataScientist',\n",
    " 'DataEngineer',\n",
    " 'DataAnalyst',\n",
    " 'DataEngineer',\n",
    " 'MLScientist',\n",
    " 'MLEngineer',\n",
    " 'MLAnalyst',\n",
    " 'MLEngineer',\n",
    " 'BusinessScientist',\n",
    " 'BusinessEngineer',\n",
    " 'BusinessAnalyst',\n",
    " 'BusinessEngineer',\n",
    " 'AIScientist',\n",
    " 'AIEngineer',\n",
    " 'AIAnalyst',\n",
    " 'AIEngineer']\n",
    "```\n"
   ]
  },
  {
   "cell_type": "markdown",
   "id": "38809779",
   "metadata": {},
   "source": [
    "## Challenge (LambdaDict Calculator)"
   ]
  },
  {
   "cell_type": "markdown",
   "id": "9855e25f",
   "metadata": {},
   "source": [
    "**Instructions**\n",
    "\n",
    "-  A task to create a calculator using <code>dictionary</code> with <code>lambda</code> expression was given to one of your close friends.\n",
    "\n",
    "\n",
    "- Unfortunately he/she is stuck with the problem and she/he asks you for help.\n",
    "\n",
    "\n",
    "- Please see below expected output and the code your friend wrote up to now . \n",
    "\n",
    "\n",
    "- Please use <code>lambda</code> expression to complete <code>dictionary</code>! \n",
    "\n",
    "\n",
    "\n",
    "**Expected Output**\n",
    "\n",
    "calculator[\"+\"](6, 3) --> 9"
   ]
  },
  {
   "cell_type": "code",
   "execution_count": null,
   "id": "1856109c",
   "metadata": {},
   "outputs": [],
   "source": [
    "# Please finalize the code! \n",
    "\n",
    "calculator = {\n",
    "              \"+\" : ,\n",
    "              \"-\" : ,\n",
    "              \"*\" : ,\n",
    "              \"/\" : \n",
    "              }"
   ]
  },
  {
   "cell_type": "code",
   "execution_count": null,
   "id": "3cd504fb",
   "metadata": {},
   "outputs": [],
   "source": []
  },
  {
   "cell_type": "markdown",
   "id": "2cd3ae67",
   "metadata": {},
   "source": [
    "## Challenge (My_Factorial)"
   ]
  },
  {
   "cell_type": "markdown",
   "id": "6b80c96c",
   "metadata": {},
   "source": [
    "**Instructions**\n",
    "\n",
    "- We've learned <code>factorial</code> function in <code>math</code> module and made some practices. \n",
    "\n",
    "\n",
    "- I'm confident that you all are able to define same function with your Python knowledge!🦾\n",
    "\n",
    "\n",
    "- Please define your own <code>factorial</code> function as <code>my_factorial</code>. \n",
    "\n",
    "\n",
    "- You can use <code>if/else</code> statements.\n",
    "\n",
    "\n",
    "- I rely on you! Good luck!"
   ]
  },
  {
   "cell_type": "markdown",
   "id": "a784a057",
   "metadata": {},
   "source": [
    "**Solution**"
   ]
  },
  {
   "cell_type": "code",
   "execution_count": 13,
   "id": "84b1fba5",
   "metadata": {
    "ExecuteTime": {
     "end_time": "2023-11-23T18:07:06.420744Z",
     "start_time": "2023-11-23T18:07:02.823206Z"
    }
   },
   "outputs": [
    {
     "name": "stdout",
     "output_type": "stream",
     "text": [
      "Enter a number n: 7\n",
      "5040\n"
     ]
    }
   ],
   "source": [
    "number = int(input(\"Enter a number n: \"))\n",
    "i = 1\n",
    "summ = 1\n",
    "while i <=number:\n",
    "    summ*=i\n",
    "    i+=1\n",
    "print(summ)"
   ]
  },
  {
   "cell_type": "code",
   "execution_count": 14,
   "id": "15d64bb1",
   "metadata": {
    "ExecuteTime": {
     "end_time": "2023-11-23T18:07:35.004263Z",
     "start_time": "2023-11-23T18:07:34.998142Z"
    }
   },
   "outputs": [],
   "source": [
    "import math    # ikinci yol"
   ]
  },
  {
   "cell_type": "code",
   "execution_count": 15,
   "id": "2732f2ff",
   "metadata": {
    "ExecuteTime": {
     "end_time": "2023-11-23T18:08:00.985721Z",
     "start_time": "2023-11-23T18:08:00.974041Z"
    }
   },
   "outputs": [
    {
     "data": {
      "text/plain": [
       "120"
      ]
     },
     "execution_count": 15,
     "metadata": {},
     "output_type": "execute_result"
    }
   ],
   "source": [
    "math.factorial(5)"
   ]
  },
  {
   "cell_type": "code",
   "execution_count": null,
   "id": "d8489cbe",
   "metadata": {},
   "outputs": [],
   "source": []
  },
  {
   "cell_type": "markdown",
   "id": "ee1fe05a",
   "metadata": {},
   "source": [
    "## Challenge (Armstrong Number)"
   ]
  },
  {
   "cell_type": "markdown",
   "id": "02ad16b2",
   "metadata": {},
   "source": [
    "**Instructions**\n",
    "\n",
    "- Please find out if a given number is an <code>\"Armstrong Number\"</code>. \n",
    "\n",
    "\n",
    "- An n-digit number that is the sum of the nth powers of its digits is called an n-Armstrong number. \n",
    "\n",
    "\n",
    "- **Examples:**"
   ]
  },
  {
   "attachments": {
    "image.png": {
     "image/png": "[encoded data removed]"
    }
   },
   "cell_type": "markdown",
   "id": "417c7628",
   "metadata": {},
   "source": [
    "![image.png](attachment:image.png)"
   ]
  },
  {
   "cell_type": "markdown",
   "id": "56de41a5",
   "metadata": {},
   "source": [
    "- Write a Python program that;\n",
    "\n",
    "            a. takes a positive integer number from the user,\n",
    "            b. checks the entered number if it is Armstrong,\n",
    "            c. consider the negative, float and any entries other than numeric values then\n",
    "            display a warning message to the user.\n",
    "            \n",
    "\n",
    "- You can use <code>while</code>, <code>for</code> loop, <code>if/elif/else</code> statements, <code>break</code> command, <code>range()</code> function.\n",
    "\n",
    "\n",
    "- Please make a Google search on <code>isdigit() </code>function. You would not believe your eyes how it's helpful.\n",
    "\n",
    "\n",
    "- **Expected output:**\n",
    "\n",
    "407 ---> 407 is an Armstrong number<br>\n",
    "-153 ---> It is an invalid entry. Don't use non-numeric, float, or negative values!<br>\n",
    "153.87 --> It is an invalid entry. Don't use non-numeric, float, or negative values!<br>\n",
    "121 ---> 121 is not an Armstrong number<br>"
   ]
  },
  {
   "cell_type": "markdown",
   "id": "54aabda6",
   "metadata": {},
   "source": [
    "**Solution**"
   ]
  },
  {
   "cell_type": "code",
   "execution_count": null,
   "id": "12b82763",
   "metadata": {},
   "outputs": [],
   "source": [
    "# Your code here👇\n",
    "\n"
   ]
  },
  {
   "cell_type": "code",
   "execution_count": 5,
   "id": "c7df1b6b",
   "metadata": {
    "ExecuteTime": {
     "end_time": "2023-11-23T17:35:20.030990Z",
     "start_time": "2023-11-23T17:35:12.125544Z"
    }
   },
   "outputs": [
    {
     "name": "stdout",
     "output_type": "stream",
     "text": [
      "Please enter a number n:9474\n",
      " 9474 is an Armstrong Number\n"
     ]
    }
   ],
   "source": [
    "number = input(\"Please enter a number n:\")\n",
    "while number.isdigit() == True:\n",
    "    summ = 0\n",
    "    for i in number:\n",
    "        new_number = int(i)**len(number)\n",
    "        summ +=new_number\n",
    "        \n",
    "    if summ == int(number):\n",
    "        print(f\" {number} is an Armstrong Number\")\n",
    "    else:\n",
    "        print(f\"{number} is not an Armstrong Number\")\n",
    "    break\n",
    "else:\n",
    "    print(\" It is an invalid entry\")"
   ]
  },
  {
   "cell_type": "code",
   "execution_count": null,
   "id": "992851e2",
   "metadata": {},
   "outputs": [],
   "source": []
  },
  {
   "cell_type": "code",
   "execution_count": null,
   "id": "b87e2e06",
   "metadata": {},
   "outputs": [],
   "source": []
  },
  {
   "cell_type": "code",
   "execution_count": null,
   "id": "8cf37fab",
   "metadata": {},
   "outputs": [],
   "source": []
  },
  {
   "cell_type": "code",
   "execution_count": null,
   "id": "f9fcf001",
   "metadata": {},
   "outputs": [],
   "source": []
  },
  {
   "cell_type": "code",
   "execution_count": null,
   "id": "307f373e",
   "metadata": {},
   "outputs": [],
   "source": []
  },
  {
   "cell_type": "code",
   "execution_count": null,
   "id": "e886dfdc",
   "metadata": {},
   "outputs": [],
   "source": []
  },
  {
   "cell_type": "code",
   "execution_count": null,
   "id": "486eae6d",
   "metadata": {},
   "outputs": [],
   "source": []
  },
  {
   "cell_type": "code",
   "execution_count": null,
   "id": "364e707d",
   "metadata": {},
   "outputs": [],
   "source": []
  },
  {
   "cell_type": "code",
   "execution_count": null,
   "id": "fa254619",
   "metadata": {},
   "outputs": [],
   "source": []
  },
  {
   "cell_type": "code",
   "execution_count": null,
   "id": "8f4b2fe4",
   "metadata": {},
   "outputs": [],
   "source": []
  },
  {
   "cell_type": "code",
   "execution_count": null,
   "id": "aa09bc1f",
   "metadata": {},
   "outputs": [],
   "source": []
  },
  {
   "cell_type": "code",
   "execution_count": null,
   "id": "2699f01d",
   "metadata": {},
   "outputs": [],
   "source": []
  },
  {
   "cell_type": "markdown",
   "id": "33f18ad9",
   "metadata": {},
   "source": [
    "## Challenge(Take me my destination please! )  <img src=\"https://www.robotsepeti.com/nao-insansi-robot-platformu-v6-egitmen-educator-versiyonu-insansi-robot-softbank-robotics-9282-48-B.png\" height = \"100\" width=\"300\" alt=\"Robot\">"
   ]
  },
  {
   "attachments": {
    "image.png": {
     "image/png": "[encoded data removed]"
    }
   },
   "cell_type": "markdown",
   "id": "7b5ab272",
   "metadata": {},
   "source": [
    "![image.png](attachment:image.png)"
   ]
  },
  {
   "cell_type": "markdown",
   "id": "afae5698",
   "metadata": {},
   "source": [
    "**Instructions**\n",
    "\n",
    "- Our robot \"Pytorg\" requesting help from us to take him to his destination. \n",
    "\n",
    "\n",
    "- There is <code>command </code>list which contains Pytorg's steps that he's supposed to follow. \n",
    "\n",
    "\n",
    "- Use <code>for</code> loop and <code>if/elif </code>statements for solution. \n",
    "\n",
    "\n",
    "- Make a google search on <code>\"startswith\"</code> or <code>\"endswith\"</code> methods. They can be very helpful!😉 \n",
    "\n",
    "\n",
    "\n",
    "**Expected Output**\n",
    "\n",
    "[x, y] ---> [0, -10]"
   ]
  },
  {
   "cell_type": "markdown",
   "id": "7c59bf7b",
   "metadata": {},
   "source": [
    "**Solution**"
   ]
  },
  {
   "cell_type": "code",
   "execution_count": null,
   "id": "ae7cbae1",
   "metadata": {},
   "outputs": [],
   "source": [
    "command = [\"right 20\", \"right 30\", \"left 50\", \"up 10\", \"down 20\"]\n",
    "\n",
    "x = y = 0\n",
    "\n",
    "# Your code here👇\n",
    "\n",
    "\n"
   ]
  },
  {
   "cell_type": "code",
   "execution_count": null,
   "id": "5a809169",
   "metadata": {},
   "outputs": [],
   "source": []
  },
  {
   "attachments": {
    "Metamy%20Logo3.jpg": {
     "image/jpeg": "[encoded data removed]"
    }
   },
   "cell_type": "markdown",
   "id": "61530c66",
   "metadata": {},
   "source": [
    "![Metamy%20Logo3.jpg](attachment:Metamy%20Logo3.jpg)"
   ]
  }
 ],
 "metadata": {
  "hide_input": false,
  "kernelspec": {
   "display_name": "Python 3 (ipykernel)",
   "language": "python",
   "name": "python3"
  },
  "language_info": {
   "codemirror_mode": {
    "name": "ipython",
    "version": 3
   },
   "file_extension": ".py",
   "mimetype": "text/x-python",
   "name": "python",
   "nbconvert_exporter": "python",
   "pygments_lexer": "ipython3",
   "version": "3.11.5"
  },
  "nbTranslate": {
   "displayLangs": [
    "*"
   ],
   "hotkey": "alt-t",
   "langInMainMenu": true,
   "sourceLang": "en",
   "targetLang": "fr",
   "useGoogleTranslate": true
  },
  "toc": {
   "base_numbering": 1,
   "nav_menu": {},
   "number_sections": true,
   "sideBar": true,
   "skip_h1_title": false,
   "title_cell": "Table of Contents",
   "title_sidebar": "Contents",
   "toc_cell": false,
   "toc_position": {},
   "toc_section_display": true,
   "toc_window_display": false
  },
  "varInspector": {
   "cols": {
    "lenName": 16,
    "lenType": 16,
    "lenVar": 40
   },
   "kernels_config": {
    "python": {
     "delete_cmd_postfix": "",
     "delete_cmd_prefix": "del ",
     "library": "var_list.py",
     "varRefreshCmd": "print(var_dic_list())"
    },
    "r": {
     "delete_cmd_postfix": ") ",
     "delete_cmd_prefix": "rm(",
     "library": "var_list.r",
     "varRefreshCmd": "cat(var_dic_list()) "
    }
   },
   "types_to_exclude": [
    "module",
    "function",
    "builtin_function_or_method",
    "instance",
    "_Feature"
   ],
   "window_display": false
  },
  "vp": {
   "vp_config_version": "1.0.0",
   "vp_menu_width": 273,
   "vp_note_display": false,
   "vp_note_width": 0,
   "vp_position": {
    "width": 278
   },
   "vp_section_display": false,
   "vp_signature": "VisualPython"
  }
 },
 "nbformat": 4,
 "nbformat_minor": 5
}
